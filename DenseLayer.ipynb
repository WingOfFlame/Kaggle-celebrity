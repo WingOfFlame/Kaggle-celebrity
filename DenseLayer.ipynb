{
 "cells": [
  {
   "cell_type": "markdown",
   "metadata": {},
   "source": []
  },
  {
   "cell_type": "code",
   "execution_count": null,
   "metadata": {},
   "outputs": [],
   "source": []
  },
  {
   "cell_type": "code",
   "execution_count": 1,
   "metadata": {},
   "outputs": [
    {
     "name": "stderr",
     "output_type": "stream",
     "text": [
      "Using TensorFlow backend.\n"
     ]
    }
   ],
   "source": [
    "import numpy as np\n",
    "from PIL import Image\n",
    "import matplotlib.pyplot as plt\n",
    "import matplotlib.image as mpimg\n",
    "from sklearn import preprocessing\n",
    "from sklearn.model_selection import train_test_split,StratifiedShuffleSplit\n",
    "from keras.utils.np_utils import to_categorical\n",
    "import glob\n",
    "from collections import Counter\n",
    "%matplotlib inline"
   ]
  },
  {
   "cell_type": "markdown",
   "metadata": {},
   "source": [
    "## Load Images"
   ]
  },
  {
   "cell_type": "code",
   "execution_count": 2,
   "metadata": {},
   "outputs": [],
   "source": [
    "data_train = np.load('input/train-resnet-features.npy').item()\n",
    "X_train = np.stack(data_train.values())\n",
    "\n",
    "Y_train = [file.split('/')[1] for file in data_train.keys()]\n",
    "le = preprocessing.LabelEncoder()\n",
    "le.fit(Y_train)\n",
    "Y_train = to_categorical(le.transform(Y_train), num_classes = 98)\n",
    "Y_train == np.stack(Y_train)\n",
    "\n",
    "data_test = np.load('input/val-resnet-features.npy').item()\n",
    "X_test = np.stack(data_test.values())\n",
    "\n",
    "X_train, X_valid, Y_train, Y_valid = train_test_split(X_train,Y_train,test_size=0.2, random_state=12)"
   ]
  },
  {
   "cell_type": "code",
   "execution_count": 3,
   "metadata": {},
   "outputs": [],
   "source": [
    "from keras.layers import (\n",
    "    Input, Dense, Conv2D, MaxPooling2D, AveragePooling2D, ZeroPadding2D,\n",
    "    Flatten, Activation, GlobalAveragePooling2D, GlobalMaxPooling2D, add)\n",
    "from keras.layers.normalization import BatchNormalization\n",
    "from keras.models import Model, Sequential\n",
    "from keras.optimizers import RMSprop, SGD\n",
    "from keras.callbacks import EarlyStopping,ReduceLROnPlateau\n"
   ]
  },
  {
   "cell_type": "code",
   "execution_count": 11,
   "metadata": {},
   "outputs": [],
   "source": [
    "model = Sequential()\n",
    "model.add(Dense(1000, input_shape=(2048,),activation='relu'))\n",
    "model.add(Dense(98, activation='softmax'))\n",
    "model.compile(optimizer='rmsprop',\n",
    "              loss='categorical_crossentropy',\n",
    "              metrics=['accuracy'])"
   ]
  },
  {
   "cell_type": "code",
   "execution_count": 12,
   "metadata": {},
   "outputs": [],
   "source": [
    "early_stopping = EarlyStopping(monitor='val_acc', min_delta=0, patience=10, verbose=1, mode='auto')\n",
    "learning_rate_reduction = ReduceLROnPlateau(monitor='val_acc', \n",
    "                                            patience=5, \n",
    "                                            verbose=1, \n",
    "                                            factor=0.1, \n",
    "                                            min_lr=0.000001)"
   ]
  },
  {
   "cell_type": "code",
   "execution_count": 13,
   "metadata": {},
   "outputs": [
    {
     "name": "stdout",
     "output_type": "stream",
     "text": [
      "Train on 4168 samples, validate on 1043 samples\n",
      "Epoch 1/512\n",
      " - 2s - loss: 4.6574 - acc: 0.0506 - val_loss: 4.0117 - val_acc: 0.0815\n",
      "Epoch 2/512\n",
      " - 2s - loss: 3.4256 - acc: 0.1507 - val_loss: 3.5846 - val_acc: 0.1294\n",
      "Epoch 3/512\n",
      " - 2s - loss: 2.9819 - acc: 0.2409 - val_loss: 3.3769 - val_acc: 0.1697\n",
      "Epoch 4/512\n",
      " - 2s - loss: 2.6343 - acc: 0.3165 - val_loss: 3.1812 - val_acc: 0.2167\n",
      "Epoch 5/512\n",
      " - 2s - loss: 2.3844 - acc: 0.3628 - val_loss: 3.1175 - val_acc: 0.2339\n",
      "Epoch 6/512\n",
      " - 2s - loss: 2.1658 - acc: 0.4184 - val_loss: 2.9243 - val_acc: 0.2570\n",
      "Epoch 7/512\n",
      " - 2s - loss: 2.0054 - acc: 0.4561 - val_loss: 2.8016 - val_acc: 0.3212\n",
      "Epoch 8/512\n",
      " - 2s - loss: 1.8280 - acc: 0.4964 - val_loss: 2.8313 - val_acc: 0.2886\n",
      "Epoch 9/512\n",
      " - 2s - loss: 1.6808 - acc: 0.5348 - val_loss: 2.7449 - val_acc: 0.3011\n",
      "Epoch 10/512\n",
      " - 2s - loss: 1.5776 - acc: 0.5621 - val_loss: 2.7133 - val_acc: 0.3308\n",
      "Epoch 11/512\n",
      " - 2s - loss: 1.4457 - acc: 0.6017 - val_loss: 2.7893 - val_acc: 0.3260\n",
      "Epoch 12/512\n",
      " - 2s - loss: 1.3643 - acc: 0.6228 - val_loss: 2.6993 - val_acc: 0.3739\n",
      "Epoch 13/512\n",
      " - 2s - loss: 1.2313 - acc: 0.6509 - val_loss: 2.8434 - val_acc: 0.3193\n",
      "Epoch 14/512\n",
      " - 2s - loss: 1.1708 - acc: 0.6737 - val_loss: 3.2599 - val_acc: 0.2953\n",
      "Epoch 15/512\n",
      " - 2s - loss: 1.1111 - acc: 0.6891 - val_loss: 2.5882 - val_acc: 0.3873\n",
      "Epoch 16/512\n",
      " - 2s - loss: 1.0146 - acc: 0.7195 - val_loss: 2.6974 - val_acc: 0.3883\n",
      "Epoch 17/512\n",
      " - 2s - loss: 0.9403 - acc: 0.7418 - val_loss: 2.7278 - val_acc: 0.3758\n",
      "Epoch 18/512\n",
      " - 2s - loss: 0.9010 - acc: 0.7466 - val_loss: 3.0370 - val_acc: 0.3682\n",
      "Epoch 19/512\n",
      " - 2s - loss: 0.8331 - acc: 0.7718 - val_loss: 2.6343 - val_acc: 0.4027\n",
      "Epoch 20/512\n",
      " - 2s - loss: 0.7787 - acc: 0.7810 - val_loss: 2.5882 - val_acc: 0.4151\n",
      "Epoch 21/512\n",
      " - 2s - loss: 0.7199 - acc: 0.8073 - val_loss: 2.5908 - val_acc: 0.4161\n",
      "Epoch 22/512\n",
      " - 2s - loss: 0.6746 - acc: 0.8078 - val_loss: 2.5336 - val_acc: 0.4506\n",
      "Epoch 23/512\n",
      " - 2s - loss: 0.6373 - acc: 0.8217 - val_loss: 2.9002 - val_acc: 0.3941\n",
      "Epoch 24/512\n",
      " - 2s - loss: 0.5845 - acc: 0.8357 - val_loss: 2.5108 - val_acc: 0.4621\n",
      "Epoch 25/512\n",
      " - 2s - loss: 0.5685 - acc: 0.8402 - val_loss: 2.5035 - val_acc: 0.4708\n",
      "Epoch 26/512\n",
      " - 2s - loss: 0.4951 - acc: 0.8661 - val_loss: 2.6895 - val_acc: 0.4295\n",
      "Epoch 27/512\n",
      " - 2s - loss: 0.4630 - acc: 0.8767 - val_loss: 3.0057 - val_acc: 0.4094\n",
      "Epoch 28/512\n",
      " - 2s - loss: 0.4623 - acc: 0.8796 - val_loss: 3.1029 - val_acc: 0.3835\n",
      "Epoch 29/512\n",
      " - 2s - loss: 0.4229 - acc: 0.8817 - val_loss: 2.8653 - val_acc: 0.4362\n",
      "Epoch 30/512\n",
      " - 2s - loss: 0.3770 - acc: 0.9007 - val_loss: 2.7125 - val_acc: 0.4679\n",
      "Epoch 31/512\n",
      " - 2s - loss: 0.3719 - acc: 0.9000 - val_loss: 2.6541 - val_acc: 0.4717\n",
      "Epoch 32/512\n",
      " - 2s - loss: 0.3244 - acc: 0.9143 - val_loss: 2.5676 - val_acc: 0.4698\n",
      "Epoch 33/512\n",
      " - 2s - loss: 0.3511 - acc: 0.9048 - val_loss: 2.5392 - val_acc: 0.5043\n",
      "Epoch 34/512\n",
      " - 2s - loss: 0.2607 - acc: 0.9376 - val_loss: 2.6916 - val_acc: 0.4746\n",
      "Epoch 35/512\n",
      " - 2s - loss: 0.2713 - acc: 0.9321 - val_loss: 2.6516 - val_acc: 0.4919\n",
      "Epoch 36/512\n",
      " - 2s - loss: 0.2313 - acc: 0.9393 - val_loss: 3.1096 - val_acc: 0.4190\n",
      "Epoch 37/512\n",
      " - 2s - loss: 0.2411 - acc: 0.9424 - val_loss: 3.1194 - val_acc: 0.4487\n",
      "Epoch 38/512\n",
      " - 2s - loss: 0.2220 - acc: 0.9479 - val_loss: 3.0315 - val_acc: 0.4267\n",
      "Epoch 39/512\n",
      " - 2s - loss: 0.1985 - acc: 0.9523 - val_loss: 2.6975 - val_acc: 0.4775\n",
      "\n",
      "Epoch 00039: ReduceLROnPlateau reducing learning rate to 0.00010000000474974513.\n",
      "Epoch 40/512\n",
      " - 2s - loss: 0.0748 - acc: 0.9911 - val_loss: 2.4702 - val_acc: 0.5292\n",
      "Epoch 41/512\n",
      " - 2s - loss: 0.0553 - acc: 0.9969 - val_loss: 2.5115 - val_acc: 0.5302\n",
      "Epoch 42/512\n",
      " - 2s - loss: 0.0524 - acc: 0.9966 - val_loss: 2.5161 - val_acc: 0.5369\n",
      "Epoch 43/512\n",
      " - 2s - loss: 0.0496 - acc: 0.9983 - val_loss: 2.5273 - val_acc: 0.5312\n",
      "Epoch 44/512\n",
      " - 1s - loss: 0.0484 - acc: 0.9981 - val_loss: 2.5271 - val_acc: 0.5360\n",
      "Epoch 45/512\n",
      " - 2s - loss: 0.0462 - acc: 0.9981 - val_loss: 2.5432 - val_acc: 0.5292\n",
      "Epoch 46/512\n",
      " - 2s - loss: 0.0442 - acc: 0.9978 - val_loss: 2.5599 - val_acc: 0.5312\n",
      "Epoch 47/512\n",
      " - 2s - loss: 0.0427 - acc: 0.9988 - val_loss: 2.5542 - val_acc: 0.5340\n",
      "Epoch 48/512\n",
      " - 2s - loss: 0.0414 - acc: 0.9988 - val_loss: 2.5460 - val_acc: 0.5312\n",
      "\n",
      "Epoch 00048: ReduceLROnPlateau reducing learning rate to 1.0000000474974514e-05.\n",
      "Epoch 49/512\n",
      " - 2s - loss: 0.0368 - acc: 0.9995 - val_loss: 2.5429 - val_acc: 0.5302\n",
      "Epoch 50/512\n",
      " - 2s - loss: 0.0359 - acc: 0.9998 - val_loss: 2.5458 - val_acc: 0.5340\n",
      "Epoch 51/512\n",
      " - 2s - loss: 0.0356 - acc: 0.9998 - val_loss: 2.5458 - val_acc: 0.5360\n",
      "Epoch 52/512\n",
      " - 2s - loss: 0.0354 - acc: 0.9998 - val_loss: 2.5481 - val_acc: 0.5379\n",
      "Epoch 53/512\n",
      " - 2s - loss: 0.0352 - acc: 0.9998 - val_loss: 2.5498 - val_acc: 0.5379\n",
      "Epoch 54/512\n",
      " - 2s - loss: 0.0351 - acc: 0.9995 - val_loss: 2.5496 - val_acc: 0.5379\n",
      "Epoch 55/512\n",
      " - 2s - loss: 0.0349 - acc: 0.9998 - val_loss: 2.5499 - val_acc: 0.5369\n",
      "Epoch 56/512\n",
      " - 2s - loss: 0.0348 - acc: 0.9995 - val_loss: 2.5506 - val_acc: 0.5369\n",
      "Epoch 57/512\n",
      " - 2s - loss: 0.0347 - acc: 0.9998 - val_loss: 2.5517 - val_acc: 0.5369\n",
      "Epoch 58/512\n",
      " - 2s - loss: 0.0344 - acc: 0.9998 - val_loss: 2.5525 - val_acc: 0.5379\n",
      "\n",
      "Epoch 00058: ReduceLROnPlateau reducing learning rate to 1.0000000656873453e-06.\n",
      "Epoch 59/512\n",
      " - 2s - loss: 0.0339 - acc: 0.9998 - val_loss: 2.5525 - val_acc: 0.5379\n",
      "Epoch 60/512\n",
      " - 2s - loss: 0.0339 - acc: 0.9998 - val_loss: 2.5525 - val_acc: 0.5379\n",
      "Epoch 61/512\n",
      " - 2s - loss: 0.0339 - acc: 0.9998 - val_loss: 2.5526 - val_acc: 0.5369\n",
      "Epoch 62/512\n",
      " - 2s - loss: 0.0339 - acc: 0.9998 - val_loss: 2.5527 - val_acc: 0.5369\n",
      "Epoch 63/512\n",
      " - 2s - loss: 0.0338 - acc: 0.9998 - val_loss: 2.5527 - val_acc: 0.5369\n",
      "\n",
      "Epoch 00063: ReduceLROnPlateau reducing learning rate to 1e-06.\n",
      "Epoch 64/512\n",
      " - 2s - loss: 0.0338 - acc: 0.9998 - val_loss: 2.5528 - val_acc: 0.5369\n",
      "Epoch 65/512\n",
      " - 2s - loss: 0.0338 - acc: 0.9998 - val_loss: 2.5529 - val_acc: 0.5369\n",
      "Epoch 66/512\n",
      " - 2s - loss: 0.0338 - acc: 0.9998 - val_loss: 2.5529 - val_acc: 0.5369\n",
      "Epoch 67/512\n",
      " - 2s - loss: 0.0338 - acc: 0.9998 - val_loss: 2.5529 - val_acc: 0.5369\n",
      "Epoch 68/512\n",
      " - 2s - loss: 0.0338 - acc: 0.9998 - val_loss: 2.5530 - val_acc: 0.5369\n",
      "Epoch 69/512\n",
      " - 2s - loss: 0.0337 - acc: 0.9998 - val_loss: 2.5531 - val_acc: 0.5369\n",
      "Epoch 70/512\n",
      " - 2s - loss: 0.0337 - acc: 0.9998 - val_loss: 2.5531 - val_acc: 0.5360\n",
      "Epoch 71/512\n",
      " - 2s - loss: 0.0337 - acc: 0.9998 - val_loss: 2.5532 - val_acc: 0.5350\n",
      "Epoch 72/512\n",
      " - 2s - loss: 0.0337 - acc: 0.9998 - val_loss: 2.5533 - val_acc: 0.5350\n",
      "Epoch 00072: early stopping\n"
     ]
    }
   ],
   "source": [
    "history = model.fit(x=X_train, y=Y_train,\n",
    "                    validation_data = (X_valid, Y_valid),\n",
    "                    epochs = 512, \n",
    "                    batch_size=128,\n",
    "                    verbose = 2,\n",
    "                    callbacks=[learning_rate_reduction,early_stopping]\n",
    "                  )"
   ]
  },
  {
   "cell_type": "code",
   "execution_count": 14,
   "metadata": {
    "scrolled": true
   },
   "outputs": [
    {
     "data": {
      "image/png": "[encoded data removed]",
      "text/plain": [
       "<Figure size 432x288 with 2 Axes>"
      ]
     },
     "metadata": {},
     "output_type": "display_data"
    }
   ],
   "source": [
    "# Plot the loss and accuracy curves for training and validation \n",
    "fig, ax = plt.subplots(2,1)\n",
    "ax[0].plot(history.history['loss'], color='b', label=\"Training loss\")\n",
    "ax[0].plot(history.history['val_loss'], color='r', label=\"validation loss\",axes =ax[0])\n",
    "legend = ax[0].legend(loc='best', shadow=True)\n",
    "\n",
    "ax[1].plot(history.history['acc'], color='b', label=\"Training accuracy\")\n",
    "ax[1].plot(history.history['val_acc'], color='r',label=\"Validation accuracy\")\n",
    "legend = ax[1].legend(loc='best', shadow=True)"
   ]
  },
  {
   "cell_type": "code",
   "execution_count": 15,
   "metadata": {},
   "outputs": [],
   "source": [
    "import pandas as pd\n",
    "results = model.predict(X_test)\n",
    "results = np.argmax(results,axis = 1)\n",
    "names = list(le.inverse_transform(results))\n",
    "file_names = list(data_test.keys())\n",
    "names = pd.Series(names,name=\"celebrity_name\")\n",
    "submission = pd.concat([pd.Series(file_names,name = \"image_label\"),names],axis = 1)\n",
    "\n",
    "submission.to_csv(\"celeberty_prediction.csv\",index=False)"
   ]
  },
  {
   "cell_type": "code",
   "execution_count": null,
   "metadata": {},
   "outputs": [],
   "source": []
  }
 ],
 "metadata": {
  "kernelspec": {
   "display_name": "Python 3",
   "language": "python",
   "name": "python3"
  },
  "language_info": {
   "codemirror_mode": {
    "name": "ipython",
    "version": 3
   },
   "file_extension": ".py",
   "mimetype": "text/x-python",
   "name": "python",
   "nbconvert_exporter": "python",
   "pygments_lexer": "ipython3",
   "version": "3.6.5"
  }
 },
 "nbformat": 4,
 "nbformat_minor": 2
}
